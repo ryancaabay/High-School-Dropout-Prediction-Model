{
  "nbformat": 4,
  "nbformat_minor": 0,
  "metadata": {
    "colab": {
      "provenance": []
    },
    "kernelspec": {
      "name": "python3",
      "display_name": "Python 3"
    },
    "language_info": {
      "name": "python"
    }
  },
  "cells": [
    {
      "cell_type": "markdown",
      "source": [
        "**PREREQUISITES**"
      ],
      "metadata": {
        "id": "keVB96Pq2kfP"
      }
    },
    {
      "cell_type": "code",
      "source": [
        "!pip install category_encoders"
      ],
      "metadata": {
        "id": "RHsK8EkjKVw1",
        "colab": {
          "base_uri": "https://localhost:8080/"
        },
        "outputId": "d053d529-6607-46b6-f559-140ba94ceed1"
      },
      "execution_count": null,
      "outputs": [
        {
          "output_type": "stream",
          "name": "stdout",
          "text": [
            "Requirement already satisfied: category_encoders in /usr/local/lib/python3.10/dist-packages (2.6.3)\n",
            "Requirement already satisfied: numpy>=1.14.0 in /usr/local/lib/python3.10/dist-packages (from category_encoders) (1.23.5)\n",
            "Requirement already satisfied: scikit-learn>=0.20.0 in /usr/local/lib/python3.10/dist-packages (from category_encoders) (1.2.2)\n",
            "Requirement already satisfied: scipy>=1.0.0 in /usr/local/lib/python3.10/dist-packages (from category_encoders) (1.11.4)\n",
            "Requirement already satisfied: statsmodels>=0.9.0 in /usr/local/lib/python3.10/dist-packages (from category_encoders) (0.14.0)\n",
            "Requirement already satisfied: pandas>=1.0.5 in /usr/local/lib/python3.10/dist-packages (from category_encoders) (1.5.3)\n",
            "Requirement already satisfied: patsy>=0.5.1 in /usr/local/lib/python3.10/dist-packages (from category_encoders) (0.5.3)\n",
            "Requirement already satisfied: python-dateutil>=2.8.1 in /usr/local/lib/python3.10/dist-packages (from pandas>=1.0.5->category_encoders) (2.8.2)\n",
            "Requirement already satisfied: pytz>=2020.1 in /usr/local/lib/python3.10/dist-packages (from pandas>=1.0.5->category_encoders) (2023.3.post1)\n",
            "Requirement already satisfied: six in /usr/local/lib/python3.10/dist-packages (from patsy>=0.5.1->category_encoders) (1.16.0)\n",
            "Requirement already satisfied: joblib>=1.1.1 in /usr/local/lib/python3.10/dist-packages (from scikit-learn>=0.20.0->category_encoders) (1.3.2)\n",
            "Requirement already satisfied: threadpoolctl>=2.0.0 in /usr/local/lib/python3.10/dist-packages (from scikit-learn>=0.20.0->category_encoders) (3.2.0)\n",
            "Requirement already satisfied: packaging>=21.3 in /usr/local/lib/python3.10/dist-packages (from statsmodels>=0.9.0->category_encoders) (23.2)\n"
          ]
        }
      ]
    },
    {
      "cell_type": "code",
      "source": [
        "import warnings\n",
        "warnings.filterwarnings(\"ignore\")"
      ],
      "metadata": {
        "id": "PE4OkFLMS6A5"
      },
      "execution_count": null,
      "outputs": []
    },
    {
      "cell_type": "markdown",
      "source": [
        "**SYNTHETIC DATASET GENERATION**"
      ],
      "metadata": {
        "id": "SgKFflRZ2em3"
      }
    },
    {
      "cell_type": "code",
      "source": [
        "import pandas as pd\n",
        "import numpy as np\n",
        "\n",
        "# Define the number of samples you want to generate\n",
        "num_samples = 100\n",
        "\n",
        "# Define the range of values for each feature\n",
        "grade_level_values = ['Grade 7', 'Grade 8', 'Grade 9', 'Grade 10']\n",
        "gender_values = ['Male', 'Female']\n",
        "family_structure_values = ['Single-parent', 'Two-parent', 'Extended family']\n",
        "parental_education_values = ['Elementary', 'High School', 'College']\n",
        "parental_occupation_values = ['Blue-collar', 'White-collar', 'Unemployed']\n",
        "family_income_values = ['Low Income', 'Middle Class', 'High Income']\n",
        "geographic_location_values = ['Urban', 'Suburban', 'Rural']\n",
        "student_teacher_ratio_values = ['Low', 'Middle', 'High']\n",
        "school_funding_values = ['Low', 'Middle', 'High']\n",
        "access_to_early_childhood_edu_values = [True, False]\n",
        "access_to_extracurricular_values = [True, False]\n",
        "access_to_technology_values = [True, False]\n",
        "student_allowance_values = ['Low', 'Middle', 'High']\n",
        "dropout_likelihood_values = [True, False]\n",
        "\n",
        "# Define the weights for each value in the feature range\n",
        "fs_w = [0.044, 0.865, 0.091]\n",
        "pe_w = [0.226, 0.475, 0.299]\n",
        "po_w = [0.42, 0.31, 0.27]\n",
        "fi_w = [0.226, 0.508, 0.266]\n",
        "str_w = [0.3, 0.5, 0.2]\n",
        "sf_w = [0.3, 0.5, 0.2]\n",
        "atce_w = [0.7, 0.3]\n",
        "atex_w = [0.6, 0.4]\n",
        "att_w = [0.6, 0.4]\n",
        "sa_w = [0.3, 0.4, 0.3]\n",
        "\n",
        "# Create an empty dataframe to store the generated data\n",
        "df = pd.DataFrame(columns=[ 'grade_level', 'gender', 'family_structure', 'parental_education', 'parental_occupation', 'family_income', 'geographic_location', 'student_teacher_ratio', 'school_funding', 'access_to_early_childhood_edu', 'access_to_extracurricular', 'access_to_technology', 'student_allowance', 'dropout_likelihood'])\n",
        "\n",
        "# Generate random values for each feature and add them to the dataframe\n",
        "for i in range(num_samples):\n",
        "    grade_level = np.random.choice(grade_level_values)\n",
        "    gender = np.random.choice(gender_values)\n",
        "    family_structure = np.random.choice(family_structure_values, p=fs_w)\n",
        "    parental_education = np.random.choice(parental_education_values, p=pe_w)\n",
        "    parental_occupation = np.random.choice(parental_occupation_values, p=po_w)\n",
        "    family_income = np.random.choice(family_income_values, p=fi_w)\n",
        "    geographic_location = np.random.choice(geographic_location_values)\n",
        "    student_teacher_ratio = np.random.choice(student_teacher_ratio_values, p=str_w)\n",
        "    school_funding = np.random.choice(school_funding_values, p=sf_w)\n",
        "    access_to_early_childhood_edu = np.random.choice(access_to_early_childhood_edu_values, p=atce_w)\n",
        "    access_to_extracurricular = np.random.choice(access_to_extracurricular_values, p=atex_w)\n",
        "    access_to_technology = np.random.choice(access_to_technology_values, p=att_w)\n",
        "    student_allowance = np.random.choice(student_allowance_values)\n",
        "    dropout_likelihood = np.random.choice(dropout_likelihood_values)\n",
        "\n",
        "    df.loc[i] = [grade_level, gender, family_structure, parental_education, parental_occupation, family_income, geographic_location, student_teacher_ratio, school_funding, access_to_early_childhood_edu, access_to_extracurricular, access_to_technology, student_allowance, dropout_likelihood]\n",
        "\n",
        "df.to_csv('high_school_dropout.csv', index=False)\n"
      ],
      "metadata": {
        "id": "Dr7giFAPQ1J_"
      },
      "execution_count": null,
      "outputs": []
    },
    {
      "cell_type": "markdown",
      "source": [
        "**DECISION TREE CLASSIFICATION MODEL**"
      ],
      "metadata": {
        "id": "YSQscrQU2ttG"
      }
    },
    {
      "cell_type": "code",
      "source": [
        "import pandas as pd\n",
        "from sklearn.model_selection import train_test_split, RandomizedSearchCV\n",
        "from sklearn.tree import DecisionTreeClassifier\n",
        "from category_encoders import JamesSteinEncoder\n",
        "from sklearn.preprocessing import LabelEncoder\n",
        "from sklearn.metrics import accuracy_score, precision_score, roc_auc_score, confusion_matrix\n",
        "from tkinter import *\n",
        "from tkinter import ttk\n",
        "from tkinter import messagebox\n",
        "\n",
        "# Load the dataset\n",
        "url = \"https://docs.google.com/spreadsheets/d/e/2PACX-1vRsZKyBQajEUz94FASaP6n7m5up5cx7lYppD4w9H0h74grgRCUCx8vxThffdQZaOOVOJkvXCj3T8T4n/pub?output=csv\"\n",
        "df = pd.read_csv(url)\n",
        "#df = pd.read_csv(r'/content/high_school_dropout.csv')\n",
        "\n",
        "# Preprocess the data\n",
        "X = df.drop('dropout_likelihood', axis=1)\n",
        "y = df['dropout_likelihood']\n",
        "\n",
        "# Split the data into training and testing sets\n",
        "X_train, X_test, y_train, y_test = train_test_split(X, y, test_size=0.2, random_state=42)\n",
        "\n",
        "# Categorical encoding using James-Stein encoding\n",
        "encoder = JamesSteinEncoder(cols=[\"grade_level\", \"gender\", \"family_structure\", \"parental_education\", \"parental_occupation\",\n",
        "                                  \"family_income\", \"geographic_location\", \"student_teacher_ratio\", \"school_funding\",\n",
        "                                  \"access_to_early_childhood_edu\", \"access_to_extracurricular\", \"access_to_technology\",\n",
        "                                  \"student_allowance\"])\n",
        "\n",
        "X_train_encoded = encoder.fit_transform(X_train, y_train)\n",
        "X_test_encoded = encoder.transform(X_test)\n",
        "\n",
        "# Label encode the dropout_likelihood column\n",
        "label_encoder = LabelEncoder()\n",
        "y_train_encoded = label_encoder.fit_transform(y_train)\n",
        "\n",
        "# Train the Decision Tree classifier with hyperparameter tuning\n",
        "param_dist = {'max_depth': [25],\n",
        "              'min_samples_split': [9],\n",
        "              'min_samples_leaf': [6],\n",
        "              'max_features': [None],\n",
        "              'splitter' : ['best'],\n",
        "              'criterion': ['gini']}\n",
        "classifier = DecisionTreeClassifier()\n",
        "random_search = RandomizedSearchCV(classifier, param_dist, n_iter=10, scoring='accuracy', cv=5)\n",
        "random_search.fit(X_train_encoded, y_train_encoded)\n",
        "best_classifier = random_search.best_estimator_\n",
        "\n",
        "# Make predictions\n",
        "y_pred = best_classifier.predict(X_test_encoded)\n",
        "\n",
        "# Evaluate the model's performance\n",
        "accuracy = accuracy_score(y_test, y_pred)\n",
        "precision = precision_score(y_test, y_pred)\n",
        "roc_auc = roc_auc_score(y_test, y_pred)\n",
        "confusion = confusion_matrix(y_test, y_pred)\n",
        "\n",
        "# Display the evaluation metrics\n",
        "print(\"Accuracy:\", accuracy)\n",
        "print(\"Precision:\", precision)\n",
        "print(\"ROC AUC:\", roc_auc)\n",
        "print(\"Confusion Matrix:\")\n",
        "print(confusion)\n",
        "\n",
        "# Print the best hyperparameters\n",
        "print(\"Best Hyperparameters:\", random_search.best_params_)\n"
      ],
      "metadata": {
        "id": "m6ebhwpLfy7g"
      },
      "execution_count": null,
      "outputs": []
    },
    {
      "cell_type": "markdown",
      "source": [
        "**GRAPHICAL USER INTERFACE** **(Requires $DISPLAY environment variable)**"
      ],
      "metadata": {
        "id": "bk_HfsS724--"
      }
    },
    {
      "cell_type": "code",
      "source": [
        "window = Tk()\n",
        "window.geometry(\"340x460\")\n",
        "window.title(\"High School Dropout Predictor\")\n",
        "\n",
        "# Define attribute values for comboboxes\n",
        "grade_level_values = ['Grade 7', 'Grade 8', 'Grade 9', 'Grade 10']\n",
        "gender_values = ['Male', 'Female']\n",
        "family_structure_values = ['Single-parent', 'Two-parent', 'Extended family']\n",
        "parental_education_values = ['Elementary', 'High School', 'College']\n",
        "parental_occupation_values = ['Blue-collar', 'White-collar', 'Unemployed']\n",
        "family_income_values = ['Low Income', 'Middle Class', 'High Income']\n",
        "geographic_location_values = ['Urban', 'Suburban', 'Rural']\n",
        "student_teacher_ratio_values = ['Low', 'Middle', 'High']\n",
        "school_funding_values = ['Low', 'Middle', 'High']\n",
        "access_to_early_childhood_edu_values = [True, False]\n",
        "access_to_extracurricular_values = [True, False]\n",
        "access_to_technology_values = [True, False]\n",
        "student_allowance_values = ['Low', 'Middle', 'High']\n",
        "dropout_likelihood_values = [True, False]\n",
        "\n",
        "# Create labels and comboboxes for each attribute\n",
        "attribute_labels = []\n",
        "attribute_comboboxes = []\n",
        "\n",
        "for i, attribute in enumerate(df.columns[:-1]):\n",
        "    label = Label(window, text=attribute)\n",
        "    label.grid(row=i, column=0, padx=(5, 5), pady=(5, 5))\n",
        "    attribute_labels.append(label)\n",
        "\n",
        "    values = eval(f\"{attribute.lower()}_values\")\n",
        "    combobox = ttk.Combobox(window, values=values, state=\"readonly\")\n",
        "    combobox.grid(row=i, column=1, padx=(5, 5), pady=(5, 5))\n",
        "    attribute_comboboxes.append(combobox)\n",
        "\n",
        "# Create a function to predict the dropout likelihood based on the selected attribute values\n",
        "def predict_dropout_likelihood():\n",
        "\n",
        "    # Get the selected attribute values\n",
        "    selected_values = [combobox.get() for combobox in attribute_comboboxes]\n",
        "\n",
        "    # Create a DataFrame with the selected values\n",
        "    selected_data = pd.DataFrame([selected_values], columns=df.columns[:-1])\n",
        "\n",
        "    # James-Stein encode the selected attributes\n",
        "    selected_data_encoded = encoder.transform(selected_data)\n",
        "\n",
        "    # Make a prediction\n",
        "    prediction = best_classifier.predict(selected_data_encoded)\n",
        "\n",
        "    # Decode the prediction\n",
        "    prediction_text = label_encoder.inverse_transform(prediction)[0]\n",
        "\n",
        "    # Show the prediction in a message box\n",
        "    messagebox.showinfo(\"Prediction\", f\"The likelihood of the student dropping out is: {prediction_text}.\")\n",
        "\n",
        "# Add a button to trigger the prediction\n",
        "predict_button = Button(window, text=\"Predict\", command=predict_dropout_likelihood)\n",
        "predict_button.grid(row=len(df.columns[:-1]), column=0, columnspan=2, padx=(5, 5), pady=(5, 5))\n",
        "\n",
        "# Run the tkinter event loop\n",
        "window.mainloop()\n"
      ],
      "metadata": {
        "id": "qzJezWNdS5Mf"
      },
      "execution_count": null,
      "outputs": []
    }
  ]
}